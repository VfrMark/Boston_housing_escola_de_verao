{
  "nbformat": 4,
  "nbformat_minor": 0,
  "metadata": {
    "colab": {
      "name": "Projeto Boston Housing",
      "provenance": [],
      "authorship_tag": "ABX9TyNOr7rUVY8M1uI2sq0f4Dro",
      "include_colab_link": true
    },
    "kernelspec": {
      "name": "python3",
      "display_name": "Python 3"
    }
  },
  "cells": [
    {
      "cell_type": "markdown",
      "metadata": {
        "id": "view-in-github",
        "colab_type": "text"
      },
      "source": [
        "<a href=\"https://colab.research.google.com/github/VfrMark/Boston_housing_escola_de_verao/blob/main/Projeto_Boston_Housing.ipynb\" target=\"_parent\"><img src=\"https://colab.research.google.com/assets/colab-badge.svg\" alt=\"Open In Colab\"/></a>"
      ]
    },
    {
      "cell_type": "markdown",
      "metadata": {
        "id": "6Z0zSij-GrKR"
      },
      "source": [
        "**Projeto offline de aprendizado de máquina de ponta a ponta**\r\n",
        "\r\n",
        "\r\n",
        "---\r\n",
        "Neste notebook será desenvolvido modelos preditivos para o setor imobiliário. Será usado um conjunto de dados do setor imobiliário de Boston.\r\n",
        "\r\n",
        "Este projeto faz parte de uma do processo avaliativo do curso *Aprendizado de Máquinas - XXII Escola de Verão - PPGMTM - UFSC* oferecido pelo Prof. Edson.\r\n",
        "\r\n",
        "Aluno: Marcos Rosa - 18100695\r\n"
      ]
    },
    {
      "cell_type": "markdown",
      "metadata": {
        "id": "9S_tkuq8OHWj"
      },
      "source": [
        "### **Configuração inicial**\r\n",
        "\r\n",
        "Nesta sessão tomaremos alguns passos importantes antes de iniciar de fato a trabalhar com os dados como importar bibliotecas necessárias, fixar uma *seed* para processos pseudoaleatórios, etc..."
      ]
    },
    {
      "cell_type": "code",
      "metadata": {
        "id": "m_fyRX_mP8Ce"
      },
      "source": [
        "# Importações comuns\r\n",
        "import numpy as np\r\n",
        "import os"
      ],
      "execution_count": 1,
      "outputs": []
    },
    {
      "cell_type": "code",
      "metadata": {
        "id": "YuJmAujEQaG_"
      },
      "source": [
        "# Fixar seed\r\n",
        "seed = 21\r\n",
        "np.random.seed(seed)"
      ],
      "execution_count": 2,
      "outputs": []
    },
    {
      "cell_type": "code",
      "metadata": {
        "id": "ob0hZ81uRjwm"
      },
      "source": [
        "# Configurações para plotar gráficos\r\n",
        "%matplotlib inline\r\n",
        "import matplotlib as mpl\r\n",
        "import matplotlib.pyplot as plt\r\n",
        "\r\n",
        "mpl.rc('axes', labelsize=14)\r\n",
        "mpl.rc('xtick', labelsize=12)\r\n",
        "mpl.rc('ytick', labelsize=12)"
      ],
      "execution_count": 3,
      "outputs": []
    },
    {
      "cell_type": "markdown",
      "metadata": {
        "id": "IOMf0m9HTCkO"
      },
      "source": [
        "### **Problema em questão**\r\n",
        "\r\n",
        "Nosso objetivo é: utilizando o conjunto de dados que temos, criar um modelo que consiga prever o preço de casas em Boston por meio das características disponíveis nos dados. Como temos dados rotulados, faremos a abordagem por aprendizado supervisionado."
      ]
    },
    {
      "cell_type": "markdown",
      "metadata": {
        "id": "3to4X5TxU5R7"
      },
      "source": [
        "### **Importação dos dados**\r\n",
        "\r\n",
        "Os dados foram importados dos datasets padrão já existentes no sklearn, A celula a seguir importa os dados e coloca em um Pandas DataFrame."
      ]
    },
    {
      "cell_type": "code",
      "metadata": {
        "id": "j9qPfEtGaXaE"
      },
      "source": [
        "#Importações necessárias\r\n",
        "import pandas as pd\r\n",
        "from sklearn.datasets import load_boston\r\n",
        "\r\n",
        "features, label = load_boston(return_X_y = True)\r\n",
        "column_names = ['CRIM', 'ZN', 'INDUS', 'CHAS', 'NOX', 'RM', 'AGE', 'DIS', 'RAD', 'TAX', 'PTRATIO', 'B', 'LSTAT']\r\n",
        "housing_df = pd.DataFrame(data=features, columns = column_names)\r\n",
        "housing_df[\"MEDV\"] = label"
      ],
      "execution_count": 4,
      "outputs": []
    },
    {
      "cell_type": "markdown",
      "metadata": {
        "id": "iwXuwXqCFaSB"
      },
      "source": [
        "###**Conhecendo os dados**"
      ]
    },
    {
      "cell_type": "code",
      "metadata": {
        "colab": {
          "base_uri": "https://localhost:8080/",
          "height": 204
        },
        "id": "xHNybTm0Frcq",
        "outputId": "fc379d57-003f-4c86-c373-b8cdf35da8a4"
      },
      "source": [
        "housing_df.head()"
      ],
      "execution_count": 5,
      "outputs": [
        {
          "output_type": "execute_result",
          "data": {
            "text/html": [
              "<div>\n",
              "<style scoped>\n",
              "    .dataframe tbody tr th:only-of-type {\n",
              "        vertical-align: middle;\n",
              "    }\n",
              "\n",
              "    .dataframe tbody tr th {\n",
              "        vertical-align: top;\n",
              "    }\n",
              "\n",
              "    .dataframe thead th {\n",
              "        text-align: right;\n",
              "    }\n",
              "</style>\n",
              "<table border=\"1\" class=\"dataframe\">\n",
              "  <thead>\n",
              "    <tr style=\"text-align: right;\">\n",
              "      <th></th>\n",
              "      <th>CRIM</th>\n",
              "      <th>ZN</th>\n",
              "      <th>INDUS</th>\n",
              "      <th>CHAS</th>\n",
              "      <th>NOX</th>\n",
              "      <th>RM</th>\n",
              "      <th>AGE</th>\n",
              "      <th>DIS</th>\n",
              "      <th>RAD</th>\n",
              "      <th>TAX</th>\n",
              "      <th>PTRATIO</th>\n",
              "      <th>B</th>\n",
              "      <th>LSTAT</th>\n",
              "      <th>MEDV</th>\n",
              "    </tr>\n",
              "  </thead>\n",
              "  <tbody>\n",
              "    <tr>\n",
              "      <th>0</th>\n",
              "      <td>0.00632</td>\n",
              "      <td>18.0</td>\n",
              "      <td>2.31</td>\n",
              "      <td>0.0</td>\n",
              "      <td>0.538</td>\n",
              "      <td>6.575</td>\n",
              "      <td>65.2</td>\n",
              "      <td>4.0900</td>\n",
              "      <td>1.0</td>\n",
              "      <td>296.0</td>\n",
              "      <td>15.3</td>\n",
              "      <td>396.90</td>\n",
              "      <td>4.98</td>\n",
              "      <td>24.0</td>\n",
              "    </tr>\n",
              "    <tr>\n",
              "      <th>1</th>\n",
              "      <td>0.02731</td>\n",
              "      <td>0.0</td>\n",
              "      <td>7.07</td>\n",
              "      <td>0.0</td>\n",
              "      <td>0.469</td>\n",
              "      <td>6.421</td>\n",
              "      <td>78.9</td>\n",
              "      <td>4.9671</td>\n",
              "      <td>2.0</td>\n",
              "      <td>242.0</td>\n",
              "      <td>17.8</td>\n",
              "      <td>396.90</td>\n",
              "      <td>9.14</td>\n",
              "      <td>21.6</td>\n",
              "    </tr>\n",
              "    <tr>\n",
              "      <th>2</th>\n",
              "      <td>0.02729</td>\n",
              "      <td>0.0</td>\n",
              "      <td>7.07</td>\n",
              "      <td>0.0</td>\n",
              "      <td>0.469</td>\n",
              "      <td>7.185</td>\n",
              "      <td>61.1</td>\n",
              "      <td>4.9671</td>\n",
              "      <td>2.0</td>\n",
              "      <td>242.0</td>\n",
              "      <td>17.8</td>\n",
              "      <td>392.83</td>\n",
              "      <td>4.03</td>\n",
              "      <td>34.7</td>\n",
              "    </tr>\n",
              "    <tr>\n",
              "      <th>3</th>\n",
              "      <td>0.03237</td>\n",
              "      <td>0.0</td>\n",
              "      <td>2.18</td>\n",
              "      <td>0.0</td>\n",
              "      <td>0.458</td>\n",
              "      <td>6.998</td>\n",
              "      <td>45.8</td>\n",
              "      <td>6.0622</td>\n",
              "      <td>3.0</td>\n",
              "      <td>222.0</td>\n",
              "      <td>18.7</td>\n",
              "      <td>394.63</td>\n",
              "      <td>2.94</td>\n",
              "      <td>33.4</td>\n",
              "    </tr>\n",
              "    <tr>\n",
              "      <th>4</th>\n",
              "      <td>0.06905</td>\n",
              "      <td>0.0</td>\n",
              "      <td>2.18</td>\n",
              "      <td>0.0</td>\n",
              "      <td>0.458</td>\n",
              "      <td>7.147</td>\n",
              "      <td>54.2</td>\n",
              "      <td>6.0622</td>\n",
              "      <td>3.0</td>\n",
              "      <td>222.0</td>\n",
              "      <td>18.7</td>\n",
              "      <td>396.90</td>\n",
              "      <td>5.33</td>\n",
              "      <td>36.2</td>\n",
              "    </tr>\n",
              "  </tbody>\n",
              "</table>\n",
              "</div>"
            ],
            "text/plain": [
              "      CRIM    ZN  INDUS  CHAS    NOX  ...    TAX  PTRATIO       B  LSTAT  MEDV\n",
              "0  0.00632  18.0   2.31   0.0  0.538  ...  296.0     15.3  396.90   4.98  24.0\n",
              "1  0.02731   0.0   7.07   0.0  0.469  ...  242.0     17.8  396.90   9.14  21.6\n",
              "2  0.02729   0.0   7.07   0.0  0.469  ...  242.0     17.8  392.83   4.03  34.7\n",
              "3  0.03237   0.0   2.18   0.0  0.458  ...  222.0     18.7  394.63   2.94  33.4\n",
              "4  0.06905   0.0   2.18   0.0  0.458  ...  222.0     18.7  396.90   5.33  36.2\n",
              "\n",
              "[5 rows x 14 columns]"
            ]
          },
          "metadata": {
            "tags": []
          },
          "execution_count": 5
        }
      ]
    },
    {
      "cell_type": "markdown",
      "metadata": {
        "id": "AZHfB-v5GWCS"
      },
      "source": [
        "A seguir vamos ver algumas informações importantes sobre as variáveis do problema em questão."
      ]
    },
    {
      "cell_type": "code",
      "metadata": {
        "colab": {
          "base_uri": "https://localhost:8080/"
        },
        "id": "sM75eqziGR2N",
        "outputId": "a2a36053-ff6d-42f9-921f-075c4eddbd6e"
      },
      "source": [
        "housing_df.info() #Descrição dos dados"
      ],
      "execution_count": 6,
      "outputs": [
        {
          "output_type": "stream",
          "text": [
            "<class 'pandas.core.frame.DataFrame'>\n",
            "RangeIndex: 506 entries, 0 to 505\n",
            "Data columns (total 14 columns):\n",
            " #   Column   Non-Null Count  Dtype  \n",
            "---  ------   --------------  -----  \n",
            " 0   CRIM     506 non-null    float64\n",
            " 1   ZN       506 non-null    float64\n",
            " 2   INDUS    506 non-null    float64\n",
            " 3   CHAS     506 non-null    float64\n",
            " 4   NOX      506 non-null    float64\n",
            " 5   RM       506 non-null    float64\n",
            " 6   AGE      506 non-null    float64\n",
            " 7   DIS      506 non-null    float64\n",
            " 8   RAD      506 non-null    float64\n",
            " 9   TAX      506 non-null    float64\n",
            " 10  PTRATIO  506 non-null    float64\n",
            " 11  B        506 non-null    float64\n",
            " 12  LSTAT    506 non-null    float64\n",
            " 13  MEDV     506 non-null    float64\n",
            "dtypes: float64(14)\n",
            "memory usage: 55.5 KB\n"
          ],
          "name": "stdout"
        }
      ]
    },
    {
      "cell_type": "markdown",
      "metadata": {
        "id": "eR-46pZJIpj_"
      },
      "source": [
        "Podemos observar já que não há caracteristicas categóricas neste problema, apenas variáveis quantitativas discretas e contínuas."
      ]
    },
    {
      "cell_type": "markdown",
      "metadata": {
        "id": "AMIwLNfYJJ4J"
      },
      "source": [
        "A seguir descreveremos quais são as características (features) do problema em questão\r\n",
        "\r\n",
        "  1.  CRIM - Taxa de crime per capita por cidade.\r\n",
        "  2.  ZN - Proporção de terrenos residenciais zoneados para lotes com mais de 25.000ft quadrados.\r\n",
        "  3.  INDUS - Proporção de negócios não varejistas por cidade (Medido em *acres*).\r\n",
        "  4.  CHAS - *Charles River dummy variable* (1 se determinada extensão de terra é limitado pelo rio, 0 se não).\r\n",
        "  5.  NOX - Concentração de oxigênio nítrico.\r\n",
        "  6.  RM - Número médio de cômodos por casa.\r\n",
        "  7.  AGE - proporção de unidades ocupadas pelo proprietário construídas antes de 1940.\r\n",
        "  8.  DIS - distâncias ponderadas até cinco centros de empregos de Boston.\r\n",
        "  9.  RAD - índice de acessibilidade a rodovias radiais.\r\n",
        "  10. TAX - taxa de imposto sobre o valor total da propriedade por cada 10.000 dolares.\r\n",
        "  11. PTRATIO - Número de alunos para cada professor por cidade.\r\n",
        "  12. B - Proporção de negros por cidade.\r\n",
        "  13. LSTAT - Porcentagem da população que tem um status baixo.\r\n",
        "  14. MEDV - Valor médio de casas ocupadas pelo proprietário em US $1.000.\r\n",
        "\r\n",
        "  Mais informações podem ser encontradas no [artigo](https://www.sciencedirect.com/science/article/pii/0095069678900062)"
      ]
    },
    {
      "cell_type": "code",
      "metadata": {
        "colab": {
          "base_uri": "https://localhost:8080/",
          "height": 317
        },
        "id": "0k8Z_pgKhLIo",
        "outputId": "47d7ade2-cee3-4fc0-b31d-05dfc3532891"
      },
      "source": [
        "housing_df.describe() #Medidas de resumo"
      ],
      "execution_count": 7,
      "outputs": [
        {
          "output_type": "execute_result",
          "data": {
            "text/html": [
              "<div>\n",
              "<style scoped>\n",
              "    .dataframe tbody tr th:only-of-type {\n",
              "        vertical-align: middle;\n",
              "    }\n",
              "\n",
              "    .dataframe tbody tr th {\n",
              "        vertical-align: top;\n",
              "    }\n",
              "\n",
              "    .dataframe thead th {\n",
              "        text-align: right;\n",
              "    }\n",
              "</style>\n",
              "<table border=\"1\" class=\"dataframe\">\n",
              "  <thead>\n",
              "    <tr style=\"text-align: right;\">\n",
              "      <th></th>\n",
              "      <th>CRIM</th>\n",
              "      <th>ZN</th>\n",
              "      <th>INDUS</th>\n",
              "      <th>CHAS</th>\n",
              "      <th>NOX</th>\n",
              "      <th>RM</th>\n",
              "      <th>AGE</th>\n",
              "      <th>DIS</th>\n",
              "      <th>RAD</th>\n",
              "      <th>TAX</th>\n",
              "      <th>PTRATIO</th>\n",
              "      <th>B</th>\n",
              "      <th>LSTAT</th>\n",
              "      <th>MEDV</th>\n",
              "    </tr>\n",
              "  </thead>\n",
              "  <tbody>\n",
              "    <tr>\n",
              "      <th>count</th>\n",
              "      <td>506.000000</td>\n",
              "      <td>506.000000</td>\n",
              "      <td>506.000000</td>\n",
              "      <td>506.000000</td>\n",
              "      <td>506.000000</td>\n",
              "      <td>506.000000</td>\n",
              "      <td>506.000000</td>\n",
              "      <td>506.000000</td>\n",
              "      <td>506.000000</td>\n",
              "      <td>506.000000</td>\n",
              "      <td>506.000000</td>\n",
              "      <td>506.000000</td>\n",
              "      <td>506.000000</td>\n",
              "      <td>506.000000</td>\n",
              "    </tr>\n",
              "    <tr>\n",
              "      <th>mean</th>\n",
              "      <td>3.613524</td>\n",
              "      <td>11.363636</td>\n",
              "      <td>11.136779</td>\n",
              "      <td>0.069170</td>\n",
              "      <td>0.554695</td>\n",
              "      <td>6.284634</td>\n",
              "      <td>68.574901</td>\n",
              "      <td>3.795043</td>\n",
              "      <td>9.549407</td>\n",
              "      <td>408.237154</td>\n",
              "      <td>18.455534</td>\n",
              "      <td>356.674032</td>\n",
              "      <td>12.653063</td>\n",
              "      <td>22.532806</td>\n",
              "    </tr>\n",
              "    <tr>\n",
              "      <th>std</th>\n",
              "      <td>8.601545</td>\n",
              "      <td>23.322453</td>\n",
              "      <td>6.860353</td>\n",
              "      <td>0.253994</td>\n",
              "      <td>0.115878</td>\n",
              "      <td>0.702617</td>\n",
              "      <td>28.148861</td>\n",
              "      <td>2.105710</td>\n",
              "      <td>8.707259</td>\n",
              "      <td>168.537116</td>\n",
              "      <td>2.164946</td>\n",
              "      <td>91.294864</td>\n",
              "      <td>7.141062</td>\n",
              "      <td>9.197104</td>\n",
              "    </tr>\n",
              "    <tr>\n",
              "      <th>min</th>\n",
              "      <td>0.006320</td>\n",
              "      <td>0.000000</td>\n",
              "      <td>0.460000</td>\n",
              "      <td>0.000000</td>\n",
              "      <td>0.385000</td>\n",
              "      <td>3.561000</td>\n",
              "      <td>2.900000</td>\n",
              "      <td>1.129600</td>\n",
              "      <td>1.000000</td>\n",
              "      <td>187.000000</td>\n",
              "      <td>12.600000</td>\n",
              "      <td>0.320000</td>\n",
              "      <td>1.730000</td>\n",
              "      <td>5.000000</td>\n",
              "    </tr>\n",
              "    <tr>\n",
              "      <th>25%</th>\n",
              "      <td>0.082045</td>\n",
              "      <td>0.000000</td>\n",
              "      <td>5.190000</td>\n",
              "      <td>0.000000</td>\n",
              "      <td>0.449000</td>\n",
              "      <td>5.885500</td>\n",
              "      <td>45.025000</td>\n",
              "      <td>2.100175</td>\n",
              "      <td>4.000000</td>\n",
              "      <td>279.000000</td>\n",
              "      <td>17.400000</td>\n",
              "      <td>375.377500</td>\n",
              "      <td>6.950000</td>\n",
              "      <td>17.025000</td>\n",
              "    </tr>\n",
              "    <tr>\n",
              "      <th>50%</th>\n",
              "      <td>0.256510</td>\n",
              "      <td>0.000000</td>\n",
              "      <td>9.690000</td>\n",
              "      <td>0.000000</td>\n",
              "      <td>0.538000</td>\n",
              "      <td>6.208500</td>\n",
              "      <td>77.500000</td>\n",
              "      <td>3.207450</td>\n",
              "      <td>5.000000</td>\n",
              "      <td>330.000000</td>\n",
              "      <td>19.050000</td>\n",
              "      <td>391.440000</td>\n",
              "      <td>11.360000</td>\n",
              "      <td>21.200000</td>\n",
              "    </tr>\n",
              "    <tr>\n",
              "      <th>75%</th>\n",
              "      <td>3.677083</td>\n",
              "      <td>12.500000</td>\n",
              "      <td>18.100000</td>\n",
              "      <td>0.000000</td>\n",
              "      <td>0.624000</td>\n",
              "      <td>6.623500</td>\n",
              "      <td>94.075000</td>\n",
              "      <td>5.188425</td>\n",
              "      <td>24.000000</td>\n",
              "      <td>666.000000</td>\n",
              "      <td>20.200000</td>\n",
              "      <td>396.225000</td>\n",
              "      <td>16.955000</td>\n",
              "      <td>25.000000</td>\n",
              "    </tr>\n",
              "    <tr>\n",
              "      <th>max</th>\n",
              "      <td>88.976200</td>\n",
              "      <td>100.000000</td>\n",
              "      <td>27.740000</td>\n",
              "      <td>1.000000</td>\n",
              "      <td>0.871000</td>\n",
              "      <td>8.780000</td>\n",
              "      <td>100.000000</td>\n",
              "      <td>12.126500</td>\n",
              "      <td>24.000000</td>\n",
              "      <td>711.000000</td>\n",
              "      <td>22.000000</td>\n",
              "      <td>396.900000</td>\n",
              "      <td>37.970000</td>\n",
              "      <td>50.000000</td>\n",
              "    </tr>\n",
              "  </tbody>\n",
              "</table>\n",
              "</div>"
            ],
            "text/plain": [
              "             CRIM          ZN       INDUS  ...           B       LSTAT        MEDV\n",
              "count  506.000000  506.000000  506.000000  ...  506.000000  506.000000  506.000000\n",
              "mean     3.613524   11.363636   11.136779  ...  356.674032   12.653063   22.532806\n",
              "std      8.601545   23.322453    6.860353  ...   91.294864    7.141062    9.197104\n",
              "min      0.006320    0.000000    0.460000  ...    0.320000    1.730000    5.000000\n",
              "25%      0.082045    0.000000    5.190000  ...  375.377500    6.950000   17.025000\n",
              "50%      0.256510    0.000000    9.690000  ...  391.440000   11.360000   21.200000\n",
              "75%      3.677083   12.500000   18.100000  ...  396.225000   16.955000   25.000000\n",
              "max     88.976200  100.000000   27.740000  ...  396.900000   37.970000   50.000000\n",
              "\n",
              "[8 rows x 14 columns]"
            ]
          },
          "metadata": {
            "tags": []
          },
          "execution_count": 7
        }
      ]
    },
    {
      "cell_type": "code",
      "metadata": {
        "colab": {
          "base_uri": "https://localhost:8080/",
          "height": 882
        },
        "id": "MwVrz1ZxlYj8",
        "outputId": "2d713a89-263a-4ee4-aa70-f4de780035ae"
      },
      "source": [
        "housing_df.hist(bins=25, figsize=(20,15))\r\n",
        "plt.show()"
      ],
      "execution_count": 8,
      "outputs": [
        {
          "output_type": "display_data",
          "data": {
            "image/png": "[encoded data removed]",
            "text/plain": [
              "<Figure size 1440x1080 with 16 Axes>"
            ]
          },
          "metadata": {
            "tags": [],
            "needs_background": "light"
          }
        }
      ]
    },
    {
      "cell_type": "markdown",
      "metadata": {
        "id": "V9XFdj_5FpWV"
      },
      "source": [
        "###Separando o conjunto de dados\r\n",
        "\r\n",
        "Utilizaremos a abordagem por amostragem aleatória, pode ser que ao conversarmos com um estatistico um outro tipo de amostragem seja indicada, mas no momento utilizaremos esse processo totalmente aleatório e em um futuro o processo pode ser melhorado e o modelo otimizado."
      ]
    },
    {
      "cell_type": "code",
      "metadata": {
        "id": "MKurzowEoRRf"
      },
      "source": [
        "from sklearn.model_selection import train_test_split\r\n",
        "\r\n",
        "housing_train, housing_test = train_test_split(housing_df, test_size=0.2, random_state=seed) #Separação dos dados em treino/teste"
      ],
      "execution_count": 9,
      "outputs": []
    },
    {
      "cell_type": "markdown",
      "metadata": {
        "id": "_VHXZJfmjsRm"
      },
      "source": [
        "### **Visualização da estrutura dos dados**"
      ]
    },
    {
      "cell_type": "code",
      "metadata": {
        "id": "nhSXd1nOjfo1"
      },
      "source": [
        "housing = housing_train.copy() #Copia do conjunto de treino"
      ],
      "execution_count": 10,
      "outputs": []
    },
    {
      "cell_type": "code",
      "metadata": {
        "colab": {
          "base_uri": "https://localhost:8080/",
          "height": 483
        },
        "id": "WFFZQcUTkEI2",
        "outputId": "5daa84f5-b007-474f-c00a-63a3d8deee0f"
      },
      "source": [
        "corr_matrix = housing.corr() #Matriz de correlação\r\n",
        "corr_matrix"
      ],
      "execution_count": 11,
      "outputs": [
        {
          "output_type": "execute_result",
          "data": {
            "text/html": [
              "<div>\n",
              "<style scoped>\n",
              "    .dataframe tbody tr th:only-of-type {\n",
              "        vertical-align: middle;\n",
              "    }\n",
              "\n",
              "    .dataframe tbody tr th {\n",
              "        vertical-align: top;\n",
              "    }\n",
              "\n",
              "    .dataframe thead th {\n",
              "        text-align: right;\n",
              "    }\n",
              "</style>\n",
              "<table border=\"1\" class=\"dataframe\">\n",
              "  <thead>\n",
              "    <tr style=\"text-align: right;\">\n",
              "      <th></th>\n",
              "      <th>CRIM</th>\n",
              "      <th>ZN</th>\n",
              "      <th>INDUS</th>\n",
              "      <th>CHAS</th>\n",
              "      <th>NOX</th>\n",
              "      <th>RM</th>\n",
              "      <th>AGE</th>\n",
              "      <th>DIS</th>\n",
              "      <th>RAD</th>\n",
              "      <th>TAX</th>\n",
              "      <th>PTRATIO</th>\n",
              "      <th>B</th>\n",
              "      <th>LSTAT</th>\n",
              "      <th>MEDV</th>\n",
              "    </tr>\n",
              "  </thead>\n",
              "  <tbody>\n",
              "    <tr>\n",
              "      <th>CRIM</th>\n",
              "      <td>1.000000</td>\n",
              "      <td>-0.205153</td>\n",
              "      <td>0.415541</td>\n",
              "      <td>-0.058162</td>\n",
              "      <td>0.445592</td>\n",
              "      <td>-0.273825</td>\n",
              "      <td>0.367262</td>\n",
              "      <td>-0.390341</td>\n",
              "      <td>0.653944</td>\n",
              "      <td>0.608553</td>\n",
              "      <td>0.296222</td>\n",
              "      <td>-0.382488</td>\n",
              "      <td>0.511990</td>\n",
              "      <td>-0.408778</td>\n",
              "    </tr>\n",
              "    <tr>\n",
              "      <th>ZN</th>\n",
              "      <td>-0.205153</td>\n",
              "      <td>1.000000</td>\n",
              "      <td>-0.520133</td>\n",
              "      <td>-0.025958</td>\n",
              "      <td>-0.505844</td>\n",
              "      <td>0.340048</td>\n",
              "      <td>-0.564677</td>\n",
              "      <td>0.649997</td>\n",
              "      <td>-0.303583</td>\n",
              "      <td>-0.320086</td>\n",
              "      <td>-0.400739</td>\n",
              "      <td>0.173093</td>\n",
              "      <td>-0.404712</td>\n",
              "      <td>0.383460</td>\n",
              "    </tr>\n",
              "    <tr>\n",
              "      <th>INDUS</th>\n",
              "      <td>0.415541</td>\n",
              "      <td>-0.520133</td>\n",
              "      <td>1.000000</td>\n",
              "      <td>0.056682</td>\n",
              "      <td>0.757482</td>\n",
              "      <td>-0.382700</td>\n",
              "      <td>0.638741</td>\n",
              "      <td>-0.710516</td>\n",
              "      <td>0.576866</td>\n",
              "      <td>0.701502</td>\n",
              "      <td>0.366079</td>\n",
              "      <td>-0.348548</td>\n",
              "      <td>0.574174</td>\n",
              "      <td>-0.464842</td>\n",
              "    </tr>\n",
              "    <tr>\n",
              "      <th>CHAS</th>\n",
              "      <td>-0.058162</td>\n",
              "      <td>-0.025958</td>\n",
              "      <td>0.056682</td>\n",
              "      <td>1.000000</td>\n",
              "      <td>0.079622</td>\n",
              "      <td>0.110294</td>\n",
              "      <td>0.072439</td>\n",
              "      <td>-0.094184</td>\n",
              "      <td>0.002452</td>\n",
              "      <td>-0.029527</td>\n",
              "      <td>-0.122383</td>\n",
              "      <td>0.047268</td>\n",
              "      <td>-0.078825</td>\n",
              "      <td>0.211300</td>\n",
              "    </tr>\n",
              "    <tr>\n",
              "      <th>NOX</th>\n",
              "      <td>0.445592</td>\n",
              "      <td>-0.505844</td>\n",
              "      <td>0.757482</td>\n",
              "      <td>0.079622</td>\n",
              "      <td>1.000000</td>\n",
              "      <td>-0.316962</td>\n",
              "      <td>0.719913</td>\n",
              "      <td>-0.761806</td>\n",
              "      <td>0.594469</td>\n",
              "      <td>0.656319</td>\n",
              "      <td>0.160293</td>\n",
              "      <td>-0.385115</td>\n",
              "      <td>0.565845</td>\n",
              "      <td>-0.423129</td>\n",
              "    </tr>\n",
              "    <tr>\n",
              "      <th>RM</th>\n",
              "      <td>-0.273825</td>\n",
              "      <td>0.340048</td>\n",
              "      <td>-0.382700</td>\n",
              "      <td>0.110294</td>\n",
              "      <td>-0.316962</td>\n",
              "      <td>1.000000</td>\n",
              "      <td>-0.243309</td>\n",
              "      <td>0.231958</td>\n",
              "      <td>-0.224188</td>\n",
              "      <td>-0.291949</td>\n",
              "      <td>-0.351819</td>\n",
              "      <td>0.132640</td>\n",
              "      <td>-0.617743</td>\n",
              "      <td>0.685814</td>\n",
              "    </tr>\n",
              "    <tr>\n",
              "      <th>AGE</th>\n",
              "      <td>0.367262</td>\n",
              "      <td>-0.564677</td>\n",
              "      <td>0.638741</td>\n",
              "      <td>0.072439</td>\n",
              "      <td>0.719913</td>\n",
              "      <td>-0.243309</td>\n",
              "      <td>1.000000</td>\n",
              "      <td>-0.738557</td>\n",
              "      <td>0.431885</td>\n",
              "      <td>0.486142</td>\n",
              "      <td>0.242545</td>\n",
              "      <td>-0.263706</td>\n",
              "      <td>0.580343</td>\n",
              "      <td>-0.371996</td>\n",
              "    </tr>\n",
              "    <tr>\n",
              "      <th>DIS</th>\n",
              "      <td>-0.390341</td>\n",
              "      <td>0.649997</td>\n",
              "      <td>-0.710516</td>\n",
              "      <td>-0.094184</td>\n",
              "      <td>-0.761806</td>\n",
              "      <td>0.231958</td>\n",
              "      <td>-0.738557</td>\n",
              "      <td>1.000000</td>\n",
              "      <td>-0.480595</td>\n",
              "      <td>-0.524435</td>\n",
              "      <td>-0.228057</td>\n",
              "      <td>0.288837</td>\n",
              "      <td>-0.479280</td>\n",
              "      <td>0.254949</td>\n",
              "    </tr>\n",
              "    <tr>\n",
              "      <th>RAD</th>\n",
              "      <td>0.653944</td>\n",
              "      <td>-0.303583</td>\n",
              "      <td>0.576866</td>\n",
              "      <td>0.002452</td>\n",
              "      <td>0.594469</td>\n",
              "      <td>-0.224188</td>\n",
              "      <td>0.431885</td>\n",
              "      <td>-0.480595</td>\n",
              "      <td>1.000000</td>\n",
              "      <td>0.909115</td>\n",
              "      <td>0.459079</td>\n",
              "      <td>-0.418520</td>\n",
              "      <td>0.472520</td>\n",
              "      <td>-0.365569</td>\n",
              "    </tr>\n",
              "    <tr>\n",
              "      <th>TAX</th>\n",
              "      <td>0.608553</td>\n",
              "      <td>-0.320086</td>\n",
              "      <td>0.701502</td>\n",
              "      <td>-0.029527</td>\n",
              "      <td>0.656319</td>\n",
              "      <td>-0.291949</td>\n",
              "      <td>0.486142</td>\n",
              "      <td>-0.524435</td>\n",
              "      <td>0.909115</td>\n",
              "      <td>1.000000</td>\n",
              "      <td>0.454611</td>\n",
              "      <td>-0.421688</td>\n",
              "      <td>0.516276</td>\n",
              "      <td>-0.449772</td>\n",
              "    </tr>\n",
              "    <tr>\n",
              "      <th>PTRATIO</th>\n",
              "      <td>0.296222</td>\n",
              "      <td>-0.400739</td>\n",
              "      <td>0.366079</td>\n",
              "      <td>-0.122383</td>\n",
              "      <td>0.160293</td>\n",
              "      <td>-0.351819</td>\n",
              "      <td>0.242545</td>\n",
              "      <td>-0.228057</td>\n",
              "      <td>0.459079</td>\n",
              "      <td>0.454611</td>\n",
              "      <td>1.000000</td>\n",
              "      <td>-0.144825</td>\n",
              "      <td>0.359464</td>\n",
              "      <td>-0.504456</td>\n",
              "    </tr>\n",
              "    <tr>\n",
              "      <th>B</th>\n",
              "      <td>-0.382488</td>\n",
              "      <td>0.173093</td>\n",
              "      <td>-0.348548</td>\n",
              "      <td>0.047268</td>\n",
              "      <td>-0.385115</td>\n",
              "      <td>0.132640</td>\n",
              "      <td>-0.263706</td>\n",
              "      <td>0.288837</td>\n",
              "      <td>-0.418520</td>\n",
              "      <td>-0.421688</td>\n",
              "      <td>-0.144825</td>\n",
              "      <td>1.000000</td>\n",
              "      <td>-0.364115</td>\n",
              "      <td>0.338581</td>\n",
              "    </tr>\n",
              "    <tr>\n",
              "      <th>LSTAT</th>\n",
              "      <td>0.511990</td>\n",
              "      <td>-0.404712</td>\n",
              "      <td>0.574174</td>\n",
              "      <td>-0.078825</td>\n",
              "      <td>0.565845</td>\n",
              "      <td>-0.617743</td>\n",
              "      <td>0.580343</td>\n",
              "      <td>-0.479280</td>\n",
              "      <td>0.472520</td>\n",
              "      <td>0.516276</td>\n",
              "      <td>0.359464</td>\n",
              "      <td>-0.364115</td>\n",
              "      <td>1.000000</td>\n",
              "      <td>-0.741047</td>\n",
              "    </tr>\n",
              "    <tr>\n",
              "      <th>MEDV</th>\n",
              "      <td>-0.408778</td>\n",
              "      <td>0.383460</td>\n",
              "      <td>-0.464842</td>\n",
              "      <td>0.211300</td>\n",
              "      <td>-0.423129</td>\n",
              "      <td>0.685814</td>\n",
              "      <td>-0.371996</td>\n",
              "      <td>0.254949</td>\n",
              "      <td>-0.365569</td>\n",
              "      <td>-0.449772</td>\n",
              "      <td>-0.504456</td>\n",
              "      <td>0.338581</td>\n",
              "      <td>-0.741047</td>\n",
              "      <td>1.000000</td>\n",
              "    </tr>\n",
              "  </tbody>\n",
              "</table>\n",
              "</div>"
            ],
            "text/plain": [
              "             CRIM        ZN     INDUS  ...         B     LSTAT      MEDV\n",
              "CRIM     1.000000 -0.205153  0.415541  ... -0.382488  0.511990 -0.408778\n",
              "ZN      -0.205153  1.000000 -0.520133  ...  0.173093 -0.404712  0.383460\n",
              "INDUS    0.415541 -0.520133  1.000000  ... -0.348548  0.574174 -0.464842\n",
              "CHAS    -0.058162 -0.025958  0.056682  ...  0.047268 -0.078825  0.211300\n",
              "NOX      0.445592 -0.505844  0.757482  ... -0.385115  0.565845 -0.423129\n",
              "RM      -0.273825  0.340048 -0.382700  ...  0.132640 -0.617743  0.685814\n",
              "AGE      0.367262 -0.564677  0.638741  ... -0.263706  0.580343 -0.371996\n",
              "DIS     -0.390341  0.649997 -0.710516  ...  0.288837 -0.479280  0.254949\n",
              "RAD      0.653944 -0.303583  0.576866  ... -0.418520  0.472520 -0.365569\n",
              "TAX      0.608553 -0.320086  0.701502  ... -0.421688  0.516276 -0.449772\n",
              "PTRATIO  0.296222 -0.400739  0.366079  ... -0.144825  0.359464 -0.504456\n",
              "B       -0.382488  0.173093 -0.348548  ...  1.000000 -0.364115  0.338581\n",
              "LSTAT    0.511990 -0.404712  0.574174  ... -0.364115  1.000000 -0.741047\n",
              "MEDV    -0.408778  0.383460 -0.464842  ...  0.338581 -0.741047  1.000000\n",
              "\n",
              "[14 rows x 14 columns]"
            ]
          },
          "metadata": {
            "tags": []
          },
          "execution_count": 11
        }
      ]
    },
    {
      "cell_type": "code",
      "metadata": {
        "colab": {
          "base_uri": "https://localhost:8080/"
        },
        "id": "Fv7MGJPWlPdA",
        "outputId": "350e5475-b582-4baf-a178-ade3722eec3b"
      },
      "source": [
        "corr_matrix['MEDV'].sort_values(ascending=False) #Correlação de MEDV em ordem decrescente"
      ],
      "execution_count": 12,
      "outputs": [
        {
          "output_type": "execute_result",
          "data": {
            "text/plain": [
              "MEDV       1.000000\n",
              "RM         0.685814\n",
              "ZN         0.383460\n",
              "B          0.338581\n",
              "DIS        0.254949\n",
              "CHAS       0.211300\n",
              "RAD       -0.365569\n",
              "AGE       -0.371996\n",
              "CRIM      -0.408778\n",
              "NOX       -0.423129\n",
              "TAX       -0.449772\n",
              "INDUS     -0.464842\n",
              "PTRATIO   -0.504456\n",
              "LSTAT     -0.741047\n",
              "Name: MEDV, dtype: float64"
            ]
          },
          "metadata": {
            "tags": []
          },
          "execution_count": 12
        }
      ]
    },
    {
      "cell_type": "code",
      "metadata": {
        "colab": {
          "base_uri": "https://localhost:8080/",
          "height": 948
        },
        "id": "5vk7UbGfme3-",
        "outputId": "8a9dac9d-290e-4575-829f-c2dfc1ae6a5e"
      },
      "source": [
        "from pandas.plotting import scatter_matrix\r\n",
        "\r\n",
        "attributes = ['MEDV', 'RM', 'ZN', 'B', 'DIS']\r\n",
        "scatter_matrix(housing[attributes], figsize=(12, 8)) #plotar a matriz de correlação"
      ],
      "execution_count": 13,
      "outputs": [
        {
          "output_type": "execute_result",
          "data": {
            "text/plain": [
              "array([[<matplotlib.axes._subplots.AxesSubplot object at 0x7fb5620fc9e8>,\n",
              "        <matplotlib.axes._subplots.AxesSubplot object at 0x7fb562117f28>,\n",
              "        <matplotlib.axes._subplots.AxesSubplot object at 0x7fb5620c61d0>,\n",
              "        <matplotlib.axes._subplots.AxesSubplot object at 0x7fb562078438>,\n",
              "        <matplotlib.axes._subplots.AxesSubplot object at 0x7fb56202b6a0>],\n",
              "       [<matplotlib.axes._subplots.AxesSubplot object at 0x7fb56205d908>,\n",
              "        <matplotlib.axes._subplots.AxesSubplot object at 0x7fb562013b70>,\n",
              "        <matplotlib.axes._subplots.AxesSubplot object at 0x7fb561fc7da0>,\n",
              "        <matplotlib.axes._subplots.AxesSubplot object at 0x7fb561fc7e10>,\n",
              "        <matplotlib.axes._subplots.AxesSubplot object at 0x7fb56210a5f8>],\n",
              "       [<matplotlib.axes._subplots.AxesSubplot object at 0x7fb561fd3d30>,\n",
              "        <matplotlib.axes._subplots.AxesSubplot object at 0x7fb5625d70f0>,\n",
              "        <matplotlib.axes._subplots.AxesSubplot object at 0x7fb5631f1a20>,\n",
              "        <matplotlib.axes._subplots.AxesSubplot object at 0x7fb562662e10>,\n",
              "        <matplotlib.axes._subplots.AxesSubplot object at 0x7fb56269e860>],\n",
              "       [<matplotlib.axes._subplots.AxesSubplot object at 0x7fb562fdf5f8>,\n",
              "        <matplotlib.axes._subplots.AxesSubplot object at 0x7fb562d74128>,\n",
              "        <matplotlib.axes._subplots.AxesSubplot object at 0x7fb562d68a58>,\n",
              "        <matplotlib.axes._subplots.AxesSubplot object at 0x7fb562ca7ba8>,\n",
              "        <matplotlib.axes._subplots.AxesSubplot object at 0x7fb562dcd940>],\n",
              "       [<matplotlib.axes._subplots.AxesSubplot object at 0x7fb562f52c88>,\n",
              "        <matplotlib.axes._subplots.AxesSubplot object at 0x7fb562f77be0>,\n",
              "        <matplotlib.axes._subplots.AxesSubplot object at 0x7fb56306fef0>,\n",
              "        <matplotlib.axes._subplots.AxesSubplot object at 0x7fb562e0fd30>,\n",
              "        <matplotlib.axes._subplots.AxesSubplot object at 0x7fb562f425c0>]],\n",
              "      dtype=object)"
            ]
          },
          "metadata": {
            "tags": []
          },
          "execution_count": 13
        },
        {
          "output_type": "display_data",
          "data": {
            "image/png": "[encoded data removed]",
            "text/plain": [
              "<Figure size 864x576 with 25 Axes>"
            ]
          },
          "metadata": {
            "tags": [],
            "needs_background": "light"
          }
        }
      ]
    },
    {
      "cell_type": "markdown",
      "metadata": {
        "id": "tvfc0YxSxCgb"
      },
      "source": [
        "A caracteristica com maior correlação com o valor médio das casas é o número médio de cômodos por casa, vamos visualizar separadamente a seguir."
      ]
    },
    {
      "cell_type": "code",
      "metadata": {
        "colab": {
          "base_uri": "https://localhost:8080/",
          "height": 303
        },
        "id": "oIUhpOPHvlOZ",
        "outputId": "34b53d6e-8b29-47cb-c8c3-6ead8f46af85"
      },
      "source": [
        "housing.plot(kind='scatter', x='RM', y='MEDV', alpha=0.5)"
      ],
      "execution_count": 14,
      "outputs": [
        {
          "output_type": "execute_result",
          "data": {
            "text/plain": [
              "<matplotlib.axes._subplots.AxesSubplot at 0x7fb562be4390>"
            ]
          },
          "metadata": {
            "tags": []
          },
          "execution_count": 14
        },
        {
          "output_type": "display_data",
          "data": {
            "image/png": "[encoded data removed]",
            "text/plain": [
              "<Figure size 432x288 with 1 Axes>"
            ]
          },
          "metadata": {
            "tags": [],
            "needs_background": "light"
          }
        }
      ]
    },
    {
      "cell_type": "markdown",
      "metadata": {
        "id": "DGPNfSO_w3xJ"
      },
      "source": [
        "Apesar de não possuir um número grande de dados no nosso conjunto podemos observar uma correlação forte entre essas caracteristicas e ainda um possível valor limitante de 50000 para o valor médio das casas."
      ]
    },
    {
      "cell_type": "markdown",
      "metadata": {
        "id": "VbTpbG71yZz2"
      },
      "source": [
        "### **Feature Engineering**\r\n",
        "\r\n",
        "Esta parte não será desenvolvida, pois seria necessário maior conhecimento da área em questão para entender que outras caracteristicas poderiam ser melhores exploradas com as informações já obtidas."
      ]
    },
    {
      "cell_type": "markdown",
      "metadata": {
        "id": "F_9jJM6VzOkX"
      },
      "source": [
        "### **Preparando os dados para o modelo**"
      ]
    },
    {
      "cell_type": "code",
      "metadata": {
        "id": "D7kSuttw0rOX"
      },
      "source": [
        "housing_features = housing_train.drop('MEDV', axis=1) #Salvando copia apenas das features\r\n",
        "housing_labels = housing_train['MEDV'].copy() #Salvando uma copia apenas das labels"
      ],
      "execution_count": 15,
      "outputs": []
    },
    {
      "cell_type": "markdown",
      "metadata": {
        "id": "SZSS34dkwtSj"
      },
      "source": [
        "Podemos ver a seguir que não há nenhuma célula nula"
      ]
    },
    {
      "cell_type": "code",
      "metadata": {
        "colab": {
          "base_uri": "https://localhost:8080/"
        },
        "id": "rvXFC3N4waIP",
        "outputId": "9eb9e3d1-fb2c-431d-f784-1de0219eb513"
      },
      "source": [
        "null_rows = housing_features[housing_features.isnull().any(axis=1)].head #Gera um DataFrame com as celulas nulas.\r\n",
        "null_rows #Como não há linhas nulas, temos apenas as colunas."
      ],
      "execution_count": 16,
      "outputs": [
        {
          "output_type": "execute_result",
          "data": {
            "text/plain": [
              "<bound method NDFrame.head of Empty DataFrame\n",
              "Columns: [CRIM, ZN, INDUS, CHAS, NOX, RM, AGE, DIS, RAD, TAX, PTRATIO, B, LSTAT]\n",
              "Index: []>"
            ]
          },
          "metadata": {
            "tags": []
          },
          "execution_count": 16
        }
      ]
    },
    {
      "cell_type": "markdown",
      "metadata": {
        "id": "cBuF38gcxs_m"
      },
      "source": [
        "Mesmo não encontrando nenhuma celulas nula, ainda é importante fazer o tratamento de dados para celulas nulas caso tenha celulas nulas no conjunto de teste. Por isso, usaremos o SimpleImputer existente no sklearn."
      ]
    },
    {
      "cell_type": "code",
      "metadata": {
        "colab": {
          "base_uri": "https://localhost:8080/"
        },
        "id": "JMVPTb0Qy8sV",
        "outputId": "ed81e0a1-2b8a-4ecb-ecff-6d3232e3e277"
      },
      "source": [
        "from sklearn.impute import SimpleImputer\r\n",
        "\r\n",
        "feature_imputer = SimpleImputer(strategy='median') #salvando com a abordagem que usaremos, mediana,\r\n",
        "\r\n",
        "feature_imputer.fit(housing_features) #Imputer se adequando aos dados"
      ],
      "execution_count": 17,
      "outputs": [
        {
          "output_type": "execute_result",
          "data": {
            "text/plain": [
              "SimpleImputer(add_indicator=False, copy=True, fill_value=None,\n",
              "              missing_values=nan, strategy='median', verbose=0)"
            ]
          },
          "metadata": {
            "tags": []
          },
          "execution_count": 17
        }
      ]
    },
    {
      "cell_type": "code",
      "metadata": {
        "colab": {
          "base_uri": "https://localhost:8080/"
        },
        "id": "tICPu-Jx0rLs",
        "outputId": "720bd7d3-dd0c-4c4b-a016-47aa3f89c34c"
      },
      "source": [
        "feature_imputer.statistics_ #Ver as estatística calculadas na celula anterior"
      ],
      "execution_count": 18,
      "outputs": [
        {
          "output_type": "execute_result",
          "data": {
            "text/plain": [
              "array([2.74475e-01, 0.00000e+00, 9.79500e+00, 0.00000e+00, 5.38000e-01,\n",
              "       6.20850e+00, 7.92000e+01, 3.10730e+00, 5.00000e+00, 3.35000e+02,\n",
              "       1.91000e+01, 3.91295e+02, 1.15750e+01])"
            ]
          },
          "metadata": {
            "tags": []
          },
          "execution_count": 18
        }
      ]
    },
    {
      "cell_type": "markdown",
      "metadata": {
        "id": "AMgu_A8g1hft"
      },
      "source": [
        "O que fizemos agora foi apenas para visualização do processo, mas o processo completo no tratamento dos dados será feito pelo pipeline a seguir."
      ]
    },
    {
      "cell_type": "code",
      "metadata": {
        "colab": {
          "base_uri": "https://localhost:8080/",
          "height": 204
        },
        "id": "wo0hBnRNFiwp",
        "outputId": "857a785e-03a6-4364-c093-d25e8d57f23e"
      },
      "source": [
        "from sklearn.pipeline import Pipeline\r\n",
        "from sklearn.preprocessing import StandardScaler #Reescalar as variáveis.\r\n",
        "\r\n",
        "pipeline = Pipeline([\r\n",
        "             ('imputer', SimpleImputer(strategy='median')),\r\n",
        "             ('scaler', StandardScaler())\r\n",
        "             ]) #Pipeline que será usada para tratar os dados\r\n",
        "housing_prepared = pipeline.fit_transform(housing_features) # pipeline adequando-se e sendo aplicada aos dados.\r\n",
        "\r\n",
        "df_test = pd.DataFrame(data=housing_prepared, columns = housing_features.columns) #visualização de como os dados ficaram após passar pela pipeline.\r\n",
        "df_test.head()"
      ],
      "execution_count": 19,
      "outputs": [
        {
          "output_type": "execute_result",
          "data": {
            "text/html": [
              "<div>\n",
              "<style scoped>\n",
              "    .dataframe tbody tr th:only-of-type {\n",
              "        vertical-align: middle;\n",
              "    }\n",
              "\n",
              "    .dataframe tbody tr th {\n",
              "        vertical-align: top;\n",
              "    }\n",
              "\n",
              "    .dataframe thead th {\n",
              "        text-align: right;\n",
              "    }\n",
              "</style>\n",
              "<table border=\"1\" class=\"dataframe\">\n",
              "  <thead>\n",
              "    <tr style=\"text-align: right;\">\n",
              "      <th></th>\n",
              "      <th>CRIM</th>\n",
              "      <th>ZN</th>\n",
              "      <th>INDUS</th>\n",
              "      <th>CHAS</th>\n",
              "      <th>NOX</th>\n",
              "      <th>RM</th>\n",
              "      <th>AGE</th>\n",
              "      <th>DIS</th>\n",
              "      <th>RAD</th>\n",
              "      <th>TAX</th>\n",
              "      <th>PTRATIO</th>\n",
              "      <th>B</th>\n",
              "      <th>LSTAT</th>\n",
              "    </tr>\n",
              "  </thead>\n",
              "  <tbody>\n",
              "    <tr>\n",
              "      <th>0</th>\n",
              "      <td>0.472514</td>\n",
              "      <td>-0.471977</td>\n",
              "      <td>0.982839</td>\n",
              "      <td>-0.293294</td>\n",
              "      <td>0.488261</td>\n",
              "      <td>-0.245983</td>\n",
              "      <td>0.565607</td>\n",
              "      <td>-0.827247</td>\n",
              "      <td>1.654182</td>\n",
              "      <td>1.520964</td>\n",
              "      <td>0.795655</td>\n",
              "      <td>-3.955754</td>\n",
              "      <td>1.479947</td>\n",
              "    </tr>\n",
              "    <tr>\n",
              "      <th>1</th>\n",
              "      <td>-0.440726</td>\n",
              "      <td>0.664232</td>\n",
              "      <td>-0.943061</td>\n",
              "      <td>-0.293294</td>\n",
              "      <td>-1.129648</td>\n",
              "      <td>0.032283</td>\n",
              "      <td>-1.355215</td>\n",
              "      <td>0.811939</td>\n",
              "      <td>-0.635657</td>\n",
              "      <td>-0.754761</td>\n",
              "      <td>0.232458</td>\n",
              "      <td>0.449833</td>\n",
              "      <td>-0.843538</td>\n",
              "    </tr>\n",
              "    <tr>\n",
              "      <th>2</th>\n",
              "      <td>-0.443783</td>\n",
              "      <td>3.618374</td>\n",
              "      <td>-1.472538</td>\n",
              "      <td>-0.293294</td>\n",
              "      <td>-1.327584</td>\n",
              "      <td>1.356492</td>\n",
              "      <td>-1.729212</td>\n",
              "      <td>2.410859</td>\n",
              "      <td>-0.521165</td>\n",
              "      <td>-1.079865</td>\n",
              "      <td>-0.283806</td>\n",
              "      <td>0.438997</td>\n",
              "      <td>-1.111363</td>\n",
              "    </tr>\n",
              "    <tr>\n",
              "      <th>3</th>\n",
              "      <td>1.383990</td>\n",
              "      <td>-0.471977</td>\n",
              "      <td>0.982839</td>\n",
              "      <td>-0.293294</td>\n",
              "      <td>0.341961</td>\n",
              "      <td>0.528686</td>\n",
              "      <td>1.106632</td>\n",
              "      <td>-1.067044</td>\n",
              "      <td>1.654182</td>\n",
              "      <td>1.520964</td>\n",
              "      <td>0.795655</td>\n",
              "      <td>-3.592364</td>\n",
              "      <td>1.189686</td>\n",
              "    </tr>\n",
              "    <tr>\n",
              "      <th>4</th>\n",
              "      <td>-0.388758</td>\n",
              "      <td>-0.471977</td>\n",
              "      <td>-0.109571</td>\n",
              "      <td>3.409545</td>\n",
              "      <td>-0.587476</td>\n",
              "      <td>-1.307309</td>\n",
              "      <td>1.106632</td>\n",
              "      <td>0.071785</td>\n",
              "      <td>-0.635657</td>\n",
              "      <td>-0.778405</td>\n",
              "      <td>0.044726</td>\n",
              "      <td>0.449833</td>\n",
              "      <td>1.451902</td>\n",
              "    </tr>\n",
              "  </tbody>\n",
              "</table>\n",
              "</div>"
            ],
            "text/plain": [
              "       CRIM        ZN     INDUS  ...   PTRATIO         B     LSTAT\n",
              "0  0.472514 -0.471977  0.982839  ...  0.795655 -3.955754  1.479947\n",
              "1 -0.440726  0.664232 -0.943061  ...  0.232458  0.449833 -0.843538\n",
              "2 -0.443783  3.618374 -1.472538  ... -0.283806  0.438997 -1.111363\n",
              "3  1.383990 -0.471977  0.982839  ...  0.795655 -3.592364  1.189686\n",
              "4 -0.388758 -0.471977 -0.109571  ...  0.044726  0.449833  1.451902\n",
              "\n",
              "[5 rows x 13 columns]"
            ]
          },
          "metadata": {
            "tags": []
          },
          "execution_count": 19
        }
      ]
    },
    {
      "cell_type": "markdown",
      "metadata": {
        "id": "o9qBKzBB3Nku"
      },
      "source": [
        "### **Selecionar e treinar um modelo**\r\n",
        "\r\n",
        "Vamos ver inicialmente como o modelo de regressão linear se comporta."
      ]
    },
    {
      "cell_type": "code",
      "metadata": {
        "colab": {
          "base_uri": "https://localhost:8080/"
        },
        "id": "6nqnS9XN5u0p",
        "outputId": "612f8262-caac-41d2-94a8-75e08310517c"
      },
      "source": [
        "from sklearn.linear_model import LinearRegression\r\n",
        "\r\n",
        "linear_reg = LinearRegression()\r\n",
        "linear_reg.fit(housing_prepared, housing_labels) # Modelo aprendendo os pârametros."
      ],
      "execution_count": 20,
      "outputs": [
        {
          "output_type": "execute_result",
          "data": {
            "text/plain": [
              "LinearRegression(copy_X=True, fit_intercept=True, n_jobs=None, normalize=False)"
            ]
          },
          "metadata": {
            "tags": []
          },
          "execution_count": 20
        }
      ]
    },
    {
      "cell_type": "markdown",
      "metadata": {
        "id": "QX99Hr0I7j0S"
      },
      "source": [
        "Vejamos agora quão bom é o nosso modelo através das métricas MAE e MSE"
      ]
    },
    {
      "cell_type": "code",
      "metadata": {
        "colab": {
          "base_uri": "https://localhost:8080/"
        },
        "id": "0_Pxf4_u7tJT",
        "outputId": "250e6f0a-c587-48d6-c160-c43e30799a12"
      },
      "source": [
        "from sklearn.metrics import mean_absolute_error as MAE\r\n",
        "from sklearn.metrics import mean_squared_error as MSE\r\n",
        "\r\n",
        "housing_predict = linear_reg.predict(housing_prepared) # Modelo já treinado predizendo os valores no conjunto de treino completo.\r\n",
        "\r\n",
        "lin_mse = MSE(housing_labels, housing_predict) # Calculando o erro médio quadrático.\r\n",
        "lin_rmse = np.sqrt(lin_mse) # Tirando a raiz do erro.\r\n",
        "\r\n",
        "print('Raiz do erro médio quadrático:', lin_rmse)"
      ],
      "execution_count": 21,
      "outputs": [
        {
          "output_type": "stream",
          "text": [
            "Raiz do erro médio quadrático: 4.565595609448381\n"
          ],
          "name": "stdout"
        }
      ]
    },
    {
      "cell_type": "code",
      "metadata": {
        "colab": {
          "base_uri": "https://localhost:8080/"
        },
        "id": "UySGSJB397Ph",
        "outputId": "1b462c54-e746-40c8-fa0a-f3bd28cc6d82"
      },
      "source": [
        "lin_mae = MAE(housing_labels, housing_predict) # Calculando o erro absoluto médio.\r\n",
        "\r\n",
        "print('Erro médio absoluto:', lin_mae)"
      ],
      "execution_count": 22,
      "outputs": [
        {
          "output_type": "stream",
          "text": [
            "Erro médio absoluto: 3.2365905038589413\n"
          ],
          "name": "stdout"
        }
      ]
    },
    {
      "cell_type": "markdown",
      "metadata": {
        "id": "wwQNxkoh-rbe"
      },
      "source": [
        "Vimos até aqui a forma mais simples de se treinar e avaliar um modelo, apenas para termos uma idéia de como se comportaria um modelo clássico até aqui. Vamos aplicar a seguir a validação cruzada na regressão linear e mais dois modelos, e comparar por fim quais deles tem menor error."
      ]
    },
    {
      "cell_type": "code",
      "metadata": {
        "id": "4Ypjqz71ANI2"
      },
      "source": [
        "from sklearn.model_selection import cross_val_score\r\n",
        "\r\n",
        "lin_scores = cross_val_score(linear_reg, housing_prepared, housing_labels,\r\n",
        "                             scoring='neg_mean_squared_error', cv=8) # Aplicando validação cruzada na regressão linear e salvando os scores de cada iteração.\r\n",
        "lin_rmse_scores = np.sqrt(-lin_scores)"
      ],
      "execution_count": 23,
      "outputs": []
    },
    {
      "cell_type": "markdown",
      "metadata": {
        "id": "p7kzIc7kCEj4"
      },
      "source": [
        "Vamos aplicar a seguir validação cruzada nos modelos árvore de decisão e floresta aleatória."
      ]
    },
    {
      "cell_type": "code",
      "metadata": {
        "id": "8gFxneh3CEJn"
      },
      "source": [
        "from sklearn.tree import DecisionTreeRegressor\r\n",
        "\r\n",
        "tree_reg = DecisionTreeRegressor(random_state=seed)\r\n",
        "tree_reg.fit(housing_prepared, housing_labels) # Modelo aprendendo com os dados.\r\n",
        "\r\n",
        "tree_scores = cross_val_score(tree_reg, housing_prepared, housing_labels, \r\n",
        "                              scoring='neg_mean_squared_error', cv=8)\r\n",
        "tree_rmse_scores = np.sqrt(-tree_scores)"
      ],
      "execution_count": 24,
      "outputs": []
    },
    {
      "cell_type": "code",
      "metadata": {
        "id": "MhNdrZTrEu7P"
      },
      "source": [
        "from sklearn.ensemble import RandomForestRegressor\r\n",
        "\r\n",
        "forest_reg = RandomForestRegressor(n_estimators=20, random_state=seed)\r\n",
        "forest_reg.fit(housing_prepared, housing_labels) #Treinando modelo\r\n",
        "\r\n",
        "forest_scores = cross_val_score(forest_reg, housing_prepared, housing_labels, \r\n",
        "                                scoring='neg_mean_squared_error', cv=8)\r\n",
        "forest_rmse_scores = np.sqrt(-forest_scores)"
      ],
      "execution_count": 25,
      "outputs": []
    },
    {
      "cell_type": "code",
      "metadata": {
        "id": "3HCl8WJLGF4u"
      },
      "source": [
        "def show_results(scores):       #Função para apresentar os resultados da validação cruzada.\r\n",
        "    print(\"scores:\", scores)\r\n",
        "    print(\"mean:\", scores.mean())\r\n",
        "    print(\"standard devation:\", scores.std())"
      ],
      "execution_count": 37,
      "outputs": []
    },
    {
      "cell_type": "code",
      "metadata": {
        "colab": {
          "base_uri": "https://localhost:8080/"
        },
        "id": "HvWQVbwTH0g0",
        "outputId": "469e87c6-d622-443f-b5db-04eb3b7c9b7b"
      },
      "source": [
        "show_results(lin_rmse_scores)"
      ],
      "execution_count": 38,
      "outputs": [
        {
          "output_type": "stream",
          "text": [
            "scores: [5.41418828 4.42626993 3.92771415 4.64205012 3.45048326 5.56435705\n",
            " 4.26337235 6.10649209]\n",
            "mean: 4.724365900862418\n",
            "standard devation: 0.8409292468837025\n"
          ],
          "name": "stdout"
        }
      ]
    },
    {
      "cell_type": "code",
      "metadata": {
        "colab": {
          "base_uri": "https://localhost:8080/"
        },
        "id": "Pz-rpgvjH_IH",
        "outputId": "5167b19c-3a1e-4454-9c9b-0896065c1810"
      },
      "source": [
        "show_results(tree_rmse_scores)"
      ],
      "execution_count": 39,
      "outputs": [
        {
          "output_type": "stream",
          "text": [
            "scores: [6.30959431 4.73826724 5.1974164  3.72698164 5.86162094 4.01970148\n",
            " 3.90602099 5.47148974]\n",
            "mean: 4.903886594132111\n",
            "standard devation: 0.9008091119682856\n"
          ],
          "name": "stdout"
        }
      ]
    },
    {
      "cell_type": "code",
      "metadata": {
        "colab": {
          "base_uri": "https://localhost:8080/"
        },
        "id": "Uu7Icvm8H_P6",
        "outputId": "767b05c3-6c0c-4094-ac09-d2049f13c399"
      },
      "source": [
        "show_results(forest_rmse_scores)"
      ],
      "execution_count": 40,
      "outputs": [
        {
          "output_type": "stream",
          "text": [
            "scores: [4.33114892 3.7226238  4.45833445 2.90733757 3.29390574 3.56233063\n",
            " 3.05522331 4.44125275]\n",
            "mean: 3.721519646655323\n",
            "standard devation: 0.5860459582205777\n"
          ],
          "name": "stdout"
        }
      ]
    },
    {
      "cell_type": "markdown",
      "metadata": {
        "id": "Zn_61FSQIvNh"
      },
      "source": [
        "Vemos então que o modelo que apresenta melhores resultados é o Random Forest, por isso tomaremos tal modelos para fazer um GridSearch, encontrar os melhores parâmetros e então avaliar por fim o nosso modelo no conjunto de teste."
      ]
    },
    {
      "cell_type": "markdown",
      "metadata": {
        "id": "oDW8GFqwUcM7"
      },
      "source": [
        "### **Ajustando e selecionando o modelo**"
      ]
    },
    {
      "cell_type": "code",
      "metadata": {
        "colab": {
          "base_uri": "https://localhost:8080/"
        },
        "id": "8gFNyqqFUnBm",
        "outputId": "88ba2fcc-0a54-4e42-e6d4-7d60010a0270"
      },
      "source": [
        "from sklearn.model_selection import GridSearchCV\r\n",
        "\r\n",
        "param_grid = {\r\n",
        "    'n_estimators' : [5, 50, 75, 150], \r\n",
        "    'max_features' : [2, 5, 9, 13, 'log2']          \r\n",
        "              } #Hyperparâmetros para serem testados.\r\n",
        "\r\n",
        "forest_reg = RandomForestRegressor(random_state=seed)\r\n",
        "\r\n",
        "grid_search = GridSearchCV(forest_reg, param_grid, cv=8,\r\n",
        "                           scoring='neg_mean_squared_error', return_train_score=True)\r\n",
        "\r\n",
        "grid_search.fit(housing_prepared, housing_labels) #Aplicando GridSearch com nossos dados"
      ],
      "execution_count": 30,
      "outputs": [
        {
          "output_type": "execute_result",
          "data": {
            "text/plain": [
              "GridSearchCV(cv=8, error_score=nan,\n",
              "             estimator=RandomForestRegressor(bootstrap=True, ccp_alpha=0.0,\n",
              "                                             criterion='mse', max_depth=None,\n",
              "                                             max_features='auto',\n",
              "                                             max_leaf_nodes=None,\n",
              "                                             max_samples=None,\n",
              "                                             min_impurity_decrease=0.0,\n",
              "                                             min_impurity_split=None,\n",
              "                                             min_samples_leaf=1,\n",
              "                                             min_samples_split=2,\n",
              "                                             min_weight_fraction_leaf=0.0,\n",
              "                                             n_estimators=100, n_jobs=None,\n",
              "                                             oob_score=False, random_state=21,\n",
              "                                             verbose=0, warm_start=False),\n",
              "             iid='deprecated', n_jobs=None,\n",
              "             param_grid={'max_features': [2, 5, 9, 13, 'log2'],\n",
              "                         'n_estimators': [5, 50, 75, 150]},\n",
              "             pre_dispatch='2*n_jobs', refit=True, return_train_score=True,\n",
              "             scoring='neg_mean_squared_error', verbose=0)"
            ]
          },
          "metadata": {
            "tags": []
          },
          "execution_count": 30
        }
      ]
    },
    {
      "cell_type": "code",
      "metadata": {
        "colab": {
          "base_uri": "https://localhost:8080/"
        },
        "id": "HrtoR15qXzrZ",
        "outputId": "e4b58cde-1a08-4f5d-f024-ee176fb7f53d"
      },
      "source": [
        "grid_search.best_params_ #Ver os melhores parâmetros encontrados"
      ],
      "execution_count": 31,
      "outputs": [
        {
          "output_type": "execute_result",
          "data": {
            "text/plain": [
              "{'max_features': 'log2', 'n_estimators': 50}"
            ]
          },
          "metadata": {
            "tags": []
          },
          "execution_count": 31
        }
      ]
    },
    {
      "cell_type": "code",
      "metadata": {
        "colab": {
          "base_uri": "https://localhost:8080/"
        },
        "id": "1fJX4TCkcKPo",
        "outputId": "27bce1fe-0608-41b5-a281-f386e14d9d70"
      },
      "source": [
        "cvres = grid_search.cv_results_\r\n",
        "for mean_score, params in zip(cvres[\"mean_test_score\"], cvres[\"params\"]):\r\n",
        "    print(np.sqrt(-mean_score), params)"
      ],
      "execution_count": 41,
      "outputs": [
        {
          "output_type": "stream",
          "text": [
            "4.200631073037087 {'max_features': 2, 'n_estimators': 5}\n",
            "3.5096126026090335 {'max_features': 2, 'n_estimators': 50}\n",
            "3.5376303340255695 {'max_features': 2, 'n_estimators': 75}\n",
            "3.529267951654444 {'max_features': 2, 'n_estimators': 150}\n",
            "3.69404025318578 {'max_features': 5, 'n_estimators': 5}\n",
            "3.4558960646136 {'max_features': 5, 'n_estimators': 50}\n",
            "3.392334058395087 {'max_features': 5, 'n_estimators': 75}\n",
            "3.3694642327746576 {'max_features': 5, 'n_estimators': 150}\n",
            "3.766711594387619 {'max_features': 9, 'n_estimators': 5}\n",
            "3.4691515071567354 {'max_features': 9, 'n_estimators': 50}\n",
            "3.4949346516311457 {'max_features': 9, 'n_estimators': 75}\n",
            "3.4266354368093177 {'max_features': 9, 'n_estimators': 150}\n",
            "3.996895420198032 {'max_features': 13, 'n_estimators': 5}\n",
            "3.5953189839938635 {'max_features': 13, 'n_estimators': 50}\n",
            "3.5884641639613544 {'max_features': 13, 'n_estimators': 75}\n",
            "3.5509830885309315 {'max_features': 13, 'n_estimators': 150}\n",
            "3.581012733303029 {'max_features': 'log2', 'n_estimators': 5}\n",
            "3.3039418426194738 {'max_features': 'log2', 'n_estimators': 50}\n",
            "3.332418738684357 {'max_features': 'log2', 'n_estimators': 75}\n",
            "3.347559434598575 {'max_features': 'log2', 'n_estimators': 150}\n"
          ],
          "name": "stdout"
        }
      ]
    },
    {
      "cell_type": "markdown",
      "metadata": {
        "id": "qCxFBJDnYV8c"
      },
      "source": [
        "### **Modelo e teste final**\r\n",
        "\r\n",
        "Após encontramos os melhores parâmetros para o modelo RandomForestRegressor na sessão anterior, utilizaremos este modelo com tais parâmetros como nosso modelo final e testaremos ele no nosso conjunto de teste que não foi usado até o momento. Assim teremos uma estimativa do erro do modelo em questão ao se deparar com dados nunca vistos antes."
      ]
    },
    {
      "cell_type": "code",
      "metadata": {
        "id": "6CK__iDnZCOv"
      },
      "source": [
        "final_model = grid_search.best_estimator_ #Salvando o melhor modelo encontrado pelo GridSearch, com os melhores parâmetros.\r\n",
        "\r\n",
        "X_test = housing_test.drop('MEDV', axis=1)\r\n",
        "y_test = housing_test['MEDV'].copy()\r\n",
        "\r\n",
        "X_test_prepared = pipeline.transform(X_test) #Passando o conjunto de teste pela pipeline criada anteriormente.\r\n",
        "final_predictions = final_model.predict(X_test_prepared) # Modelo predizendo o valor das casas dos dados novos."
      ],
      "execution_count": 35,
      "outputs": []
    },
    {
      "cell_type": "code",
      "metadata": {
        "colab": {
          "base_uri": "https://localhost:8080/"
        },
        "id": "kUo5hsxDZWII",
        "outputId": "47fda5fc-5c68-41dd-9b6a-ff7c9cd17929"
      },
      "source": [
        "final_mse = MSE(y_test, final_predictions)\r\n",
        "final_rmse = np.sqrt(final_mse)\r\n",
        "\r\n",
        "final_rmse"
      ],
      "execution_count": 36,
      "outputs": [
        {
          "output_type": "execute_result",
          "data": {
            "text/plain": [
              "3.55474096019916"
            ]
          },
          "metadata": {
            "tags": []
          },
          "execution_count": 36
        }
      ]
    },
    {
      "cell_type": "markdown",
      "metadata": {
        "id": "0h4ecgwdcbaQ"
      },
      "source": [
        "### **Conclusão**\r\n",
        "\r\n",
        "Temos um erro final no conjunto de teste bem próximo ao erro encontrado no GridSearch, o que nos diz que encontramos bons parâmetros e nosso modelo lida da maneira esperada com dados que nunca foram visto, ou seja, nosso modelo consegue generalizar da maneira esperada."
      ]
    }
  ]
}